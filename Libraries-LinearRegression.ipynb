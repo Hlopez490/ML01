{
  "nbformat": 4,
  "nbformat_minor": 0,
  "metadata": {
    "colab": {
      "provenance": []
    },
    "kernelspec": {
      "name": "python3",
      "display_name": "Python 3"
    },
    "language_info": {
      "name": "python"
    }
  },
  "cells": [
    {
      "cell_type": "code",
      "execution_count": 400,
      "metadata": {
        "id": "d6ZgVD5BQPQ-"
      },
      "outputs": [],
      "source": [
        "#!pip install numpy"
      ]
    },
    {
      "cell_type": "code",
      "source": [
        "#!pip install pandas"
      ],
      "metadata": {
        "id": "D6NmRF7wQboK"
      },
      "execution_count": 401,
      "outputs": []
    },
    {
      "cell_type": "code",
      "source": [
        "import numpy as np\n",
        "import matplotlib.pyplot as plt \n",
        "import pandas as pd  \n",
        "import seaborn as sns \n",
        "from sklearn.metrics import r2_score\n",
        "from sklearn.datasets import load_boston\n",
        "from sklearn.preprocessing import StandardScaler\n",
        "from sklearn.model_selection import train_test_split\n",
        "from sklearn import linear_model\n",
        "from sklearn.metrics import mean_squared_error\n",
        "from sklearn.linear_model import SGDRegressor\n",
        "from sklearn.preprocessing import StandardScaler"
      ],
      "metadata": {
        "id": "0SytRBEuQhXs"
      },
      "execution_count": 402,
      "outputs": []
    },
    {
      "cell_type": "code",
      "source": [
        "from sklearn.datasets import fetch_california_housing"
      ],
      "metadata": {
        "id": "Z-5nyo-1QkuR"
      },
      "execution_count": 403,
      "outputs": []
    },
    {
      "cell_type": "code",
      "source": [
        "data = pd.read_excel(\"https://github.com/Hlopez490/ML01/blob/main/Real%20estate%20valuation%20data%20set.xlsx?raw=true\")"
      ],
      "metadata": {
        "id": "v-mMyCjUQrdz"
      },
      "execution_count": 404,
      "outputs": []
    },
    {
      "cell_type": "markdown",
      "source": [],
      "metadata": {
        "id": "D_oQfM8ea7Lm"
      }
    },
    {
      "cell_type": "code",
      "source": [
        "# remove unecessary columns (Last 2 columns were null, and date and time are irrelivant to our calculations)\n",
        "data = data.dropna()"
      ],
      "metadata": {
        "id": "s6Hp6ZCGQ_MS"
      },
      "execution_count": 405,
      "outputs": []
    },
    {
      "cell_type": "code",
      "source": [
        "X = data[[\"X2 house age\",\"X3 distance to the nearest MRT station\",\"X4 number of convenience stores\"]].copy()\n",
        "X.columns = ['X2', 'X3', 'X4']\n",
        "y = data[[\"Y house price of unit area\"]].copy()\n",
        "y.columns = ['Y']"
      ],
      "metadata": {
        "id": "K58majXjRKtU"
      },
      "execution_count": 406,
      "outputs": []
    },
    {
      "cell_type": "code",
      "source": [
        "X=(X-X.min())/(X.max()-X.min())\n",
        "X[\"intercept\"] = 1\n",
        "X = X[[\"intercept\",'X2', 'X3', 'X4']]"
      ],
      "metadata": {
        "id": "4XikNTXyW450"
      },
      "execution_count": 407,
      "outputs": []
    },
    {
      "cell_type": "code",
      "source": [
        "x_train, x_test, y_train, y_test = train_test_split(X, y, test_size = 0.7)"
      ],
      "metadata": {
        "id": "kjZeCf_qUzci"
      },
      "execution_count": 408,
      "outputs": []
    },
    {
      "cell_type": "code",
      "source": [
        "model = SGDRegressor(alpha=0.005, eta0=0.0001, max_iter = 1000000, tol = 0.0000001) \n",
        "model.fit(x_train, y_train)"
      ],
      "metadata": {
        "id": "HgdaPo-qVCsd",
        "colab": {
          "base_uri": "https://localhost:8080/"
        },
        "outputId": "76648f98-34f7-4b30-9287-5a71af6c3077"
      },
      "execution_count": 409,
      "outputs": [
        {
          "output_type": "stream",
          "name": "stderr",
          "text": [
            "/usr/local/lib/python3.8/dist-packages/sklearn/utils/validation.py:993: DataConversionWarning: A column-vector y was passed when a 1d array was expected. Please change the shape of y to (n_samples, ), for example using ravel().\n",
            "  y = column_or_1d(y, warn=True)\n"
          ]
        },
        {
          "output_type": "execute_result",
          "data": {
            "text/plain": [
              "SGDRegressor(alpha=0.005, eta0=0.0001, max_iter=1000000, tol=1e-07)"
            ]
          },
          "metadata": {},
          "execution_count": 409
        }
      ]
    },
    {
      "cell_type": "code",
      "source": [
        "y_predict_train = model.predict(x_train)\n",
        "rmse_train = (np.sqrt(mean_squared_error(y_train, y_predict_train)))\n",
        "r2_train = r2_score(y_train, y_predict_train) "
      ],
      "metadata": {
        "id": "_ZrauT9cVoAh"
      },
      "execution_count": 410,
      "outputs": []
    },
    {
      "cell_type": "code",
      "source": [
        "print(\"The model performance for training set\")\n",
        "print(\"--------------------------------------\")\n",
        "print('RMSE is {}'.format(rmse_train))\n",
        "print('R2 score is {}'.format(r2_train))\n",
        "print(\"\\n\")"
      ],
      "metadata": {
        "id": "2DXITxlrV0qY",
        "colab": {
          "base_uri": "https://localhost:8080/"
        },
        "outputId": "a5e7e1c3-8ce7-4408-945e-8bd2bec43d6d"
      },
      "execution_count": 411,
      "outputs": [
        {
          "output_type": "stream",
          "name": "stdout",
          "text": [
            "The model performance for training set\n",
            "--------------------------------------\n",
            "RMSE is 8.48551208993776\n",
            "R2 score is 0.5254761090564053\n",
            "\n",
            "\n"
          ]
        }
      ]
    },
    {
      "cell_type": "code",
      "source": [
        "# model evaluation for testing set\n",
        "y_test_predict = model.predict(x_test)\n",
        "rmse_test = (np.sqrt(mean_squared_error(y_test, y_test_predict)))\n",
        "r2_test = r2_score(y_test, y_test_predict)"
      ],
      "metadata": {
        "id": "EM_66hO4k6Y9"
      },
      "execution_count": 412,
      "outputs": []
    },
    {
      "cell_type": "code",
      "source": [
        "print(\"The model performance for testing set\")\n",
        "print(\"--------------------------------------\")\n",
        "print('RMSE is {}'.format(rmse_test))\n",
        "print('R2 score is {}'.format(r2_test))"
      ],
      "metadata": {
        "colab": {
          "base_uri": "https://localhost:8080/"
        },
        "id": "WmyDZB-ukhB5",
        "outputId": "75e656c2-aa66-40d4-a537-462eb34f68f7"
      },
      "execution_count": 419,
      "outputs": [
        {
          "output_type": "stream",
          "name": "stdout",
          "text": [
            "The model performance for testing set\n",
            "--------------------------------------\n",
            "RMSE is 9.80267872654445\n",
            "R2 score is 0.5159726713862811\n"
          ]
        }
      ]
    },
    {
      "cell_type": "code",
      "source": [
        "x_test = x_test.sort_values(by = 'X2',ascending=True)\n",
        "X_plot = x_test['X2'].values.reshape(-1,1)"
      ],
      "metadata": {
        "id": "NO-PSS_Lu2ej",
        "colab": {
          "base_uri": "https://localhost:8080/"
        },
        "outputId": "86827ff6-cde5-4239-d25c-4029c80f0e7d"
      },
      "execution_count": 428,
      "outputs": [
        {
          "output_type": "execute_result",
          "data": {
            "text/plain": [
              "array([23.3902489])"
            ]
          },
          "metadata": {},
          "execution_count": 428
        }
      ]
    },
    {
      "cell_type": "code",
      "source": [
        "y_pred = (model.coef_[1]*X_plot) + model.intercept_"
      ],
      "metadata": {
        "id": "YJsFEtkjpe_a"
      },
      "execution_count": 423,
      "outputs": []
    },
    {
      "cell_type": "code",
      "source": [
        "fig, ax = plt.subplots(figsize=(8, 4))\n",
        "\n",
        "ax.plot(X_plot, y_pred)\n",
        "ax.scatter(X_plot,y_test , c='blue')\n",
        "ax.set_ylabel('X2', fontsize=14)\n",
        "ax.set_xlabel('Y', fontsize=14)\n",
        "ax.set_title('$R^2= %.2f$' % r2_test, fontsize=18)\n",
        "\n",
        "fig.tight_layout()"
      ],
      "metadata": {
        "colab": {
          "base_uri": "https://localhost:8080/",
          "height": 297
        },
        "id": "H8C_JzpYfUJ3",
        "outputId": "62800917-c11f-454d-a8ad-a904ad4f16c1"
      },
      "execution_count": 430,
      "outputs": [
        {
          "output_type": "display_data",
          "data": {
            "text/plain": [
              "<Figure size 576x288 with 1 Axes>"
            ],
            "image/png": "[encoded data removed]"
          },
          "metadata": {
            "needs_background": "light"
          }
        }
      ]
    },
    {
      "cell_type": "code",
      "source": [],
      "metadata": {
        "id": "NHTezCgMgA1Y"
      },
      "execution_count": 416,
      "outputs": []
    }
  ]
}