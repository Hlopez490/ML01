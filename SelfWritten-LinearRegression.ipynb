{
  "nbformat": 4,
  "nbformat_minor": 0,
  "metadata": {
    "colab": {
      "provenance": []
    },
    "kernelspec": {
      "name": "python3",
      "display_name": "Python 3"
    },
    "language_info": {
      "name": "python"
    }
  },
  "cells": [
    {
      "cell_type": "code",
      "source": [
        "#!pip install pandas"
      ],
      "metadata": {
        "id": "ej-suat4wo4C"
      },
      "execution_count": 221,
      "outputs": []
    },
    {
      "cell_type": "code",
      "source": [
        "#!pip install numpy"
      ],
      "metadata": {
        "id": "OCwkJhAWwrCn"
      },
      "execution_count": 222,
      "outputs": []
    },
    {
      "cell_type": "code",
      "source": [
        "import numpy as np\n",
        "from sklearn.model_selection import train_test_split\n",
        "from sklearn import datasets\n",
        "import matplotlib.pyplot as plt\n",
        "import pandas as pd  \n",
        "from sklearn.metrics import r2_score"
      ],
      "metadata": {
        "id": "hv5LbryHgtcO"
      },
      "execution_count": 223,
      "outputs": []
    },
    {
      "cell_type": "code",
      "source": [
        "data = pd.read_excel(\"https://github.com/Hlopez490/ML01/blob/main/Real%20estate%20valuation%20data%20set.xlsx?raw=true\")"
      ],
      "metadata": {
        "id": "xiEZQtgR9bMr"
      },
      "execution_count": 224,
      "outputs": []
    },
    {
      "cell_type": "code",
      "source": [
        "# remove null,Na,NaN,NaT values from data\n",
        "data = data.dropna()"
      ],
      "metadata": {
        "id": "f2geBKYFkJjs"
      },
      "execution_count": 225,
      "outputs": []
    },
    {
      "cell_type": "code",
      "source": [
        "X = data[[\"X2 house age\",\"X3 distance to the nearest MRT station\",\"X4 number of convenience stores\"]].copy()\n",
        "X.columns = ['X2', 'X3', 'X4']\n",
        "y = data[[\"Y house price of unit area\"]].copy()\n",
        "y.columns = ['Y']"
      ],
      "metadata": {
        "id": "SL1lgVeCmLYR"
      },
      "execution_count": 226,
      "outputs": []
    },
    {
      "cell_type": "code",
      "source": [
        "X=(X-X.min())/(X.max()-X.min())\n",
        "X[\"intercept\"] = 1\n",
        "X = X[[\"intercept\",'X2', 'X3', 'X4']]"
      ],
      "metadata": {
        "id": "6zGLAMHYc-Fn"
      },
      "execution_count": 227,
      "outputs": []
    },
    {
      "cell_type": "code",
      "source": [
        "X_train, X_test, y_train, y_test = train_test_split(X, y, test_size=0.7)"
      ],
      "metadata": {
        "id": "tI9zIYRFo4bS"
      },
      "execution_count": 228,
      "outputs": []
    },
    {
      "cell_type": "code",
      "source": [
        "class LinearRegression:\n",
        "  def __init__(self):\n",
        "        self.alpha = 0.05\n",
        "        self.n_iter = 10000\n",
        "        self.tolerance= 1e-08\n",
        "        self.weights = None\n",
        "        self.bias = 0\n",
        "\n",
        "  def gradient_descent(self, X, y):\n",
        "    self.weights = np.zeros((self.features,1))\n",
        "    for _ in range(self.n_iter):\n",
        "      y_pred = X @ self.weights + self.bias\n",
        "      w = (1/self.n) * (y_pred - y).T #ssr_gradient\n",
        "      b = (1/self.n) * np.sum(y_pred - y)\n",
        "\n",
        "      diff = -self.alpha * w\n",
        "      if np.all(np.abs(diff) <= self.tolerance):\n",
        "          break\n",
        "      self.weights = self.weights + X.T @ diff.T\n",
        "      self.bias = self.bias - self.alpha * b\n",
        "\n",
        "  def find_model(self, X, y):\n",
        "    self.features = X.shape[1]\n",
        "    self.n = X.shape[0]\n",
        "    self.gradient_descent(X,y)\n",
        "    y_pred = X @ self.weights + self.bias\n",
        "    return y_pred, self.weights, self.bias\n",
        "        "
      ],
      "metadata": {
        "id": "LrzBjtAoC-8G"
      },
      "execution_count": 365,
      "outputs": []
    },
    {
      "cell_type": "code",
      "source": [
        "regression = LinearRegression()\n",
        "model, weights_train, bias_train = regression.find_model(X_train.values, y_train.values)\n",
        "weights_train, bias_train"
      ],
      "metadata": {
        "id": "U0bhyLcdBnRB",
        "colab": {
          "base_uri": "https://localhost:8080/"
        },
        "outputId": "64dbe075-237a-4850-dfef-13482b232c3e"
      },
      "execution_count": 366,
      "outputs": [
        {
          "output_type": "execute_result",
          "data": {
            "text/plain": [
              "(array([[ 21.36724171],\n",
              "        [ -9.74330575],\n",
              "        [-33.18508926],\n",
              "        [ 10.98746913]]), 21.367241711321334)"
            ]
          },
          "metadata": {},
          "execution_count": 366
        }
      ]
    },
    {
      "cell_type": "code",
      "source": [
        "Y_pred_train = X_train @ weights_train + bias_train\n",
        "MSE_train = np.square(np.subtract(y_train,Y_pred_train)).mean()\n",
        "r2_train = r2_score(y_train, Y_pred_train)\n",
        "MSE_train, r2_train"
      ],
      "metadata": {
        "colab": {
          "base_uri": "https://localhost:8080/"
        },
        "id": "sufWvGPOG2hy",
        "outputId": "3bc36097-9b6e-402c-c14c-a8416f0f2df6"
      },
      "execution_count": 367,
      "outputs": [
        {
          "output_type": "stream",
          "name": "stderr",
          "text": [
            "<ipython-input-367-8b1efb8e5dad>:2: FutureWarning: Calling a ufunc on non-aligned DataFrames (or DataFrame/Series combination). Currently, the indices are ignored and the result takes the index/columns of the first DataFrame. In the future , the DataFrames/Series will be aligned before applying the ufunc.\n",
            "Convert one of the arguments to a NumPy array (eg 'ufunc(df1, np.asarray(df2)') to keep the current behaviour, or align manually (eg 'df1, df2 = df1.align(df2)') before passing to the ufunc to obtain the future behaviour and silence this warning.\n",
            "  MSE_train = np.square(np.subtract(y_train,Y_pred_train)).mean()\n"
          ]
        },
        {
          "output_type": "execute_result",
          "data": {
            "text/plain": [
              "(Y    58.083901\n",
              " dtype: float64, 0.5848263750974136)"
            ]
          },
          "metadata": {},
          "execution_count": 367
        }
      ]
    },
    {
      "cell_type": "code",
      "source": [
        "X_test = X_test.sort_values(by = 'X2',ascending=True)\n",
        "X_plot = X_test['X2'].values.reshape(-1,1)\n",
        "y_plot = y_test['Y'].values"
      ],
      "metadata": {
        "id": "xs8uThdhEHdQ"
      },
      "execution_count": 372,
      "outputs": []
    },
    {
      "cell_type": "code",
      "source": [
        "Y_pred_test = X_test @ weights_train + bias_train"
      ],
      "metadata": {
        "id": "Xoyy6lioEJNC"
      },
      "execution_count": 373,
      "outputs": []
    },
    {
      "cell_type": "code",
      "source": [
        "MSE_test = np.square(np.subtract(y_plot.reshape(-1,1),Y_pred_test)).mean()\n",
        "r2_test = r2_score(y_test, Y_pred_test)\n",
        "MSE_test, r2_test"
      ],
      "metadata": {
        "colab": {
          "base_uri": "https://localhost:8080/"
        },
        "id": "fLLij7yKELKK",
        "outputId": "9b2a66c5-4ac3-4ae8-aa43-0cacd34a6365"
      },
      "execution_count": 374,
      "outputs": [
        {
          "output_type": "execute_result",
          "data": {
            "text/plain": [
              "(0    308.547792\n",
              " dtype: float64, -0.5136849391801825)"
            ]
          },
          "metadata": {},
          "execution_count": 374
        }
      ]
    },
    {
      "cell_type": "code",
      "source": [],
      "metadata": {
        "id": "Xg0LlDvPgHB8"
      },
      "execution_count": null,
      "outputs": []
    }
  ]
}