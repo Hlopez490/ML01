{
  "nbformat": 4,
  "nbformat_minor": 0,
  "metadata": {
    "colab": {
      "provenance": []
    },
    "kernelspec": {
      "name": "python3",
      "display_name": "Python 3"
    },
    "language_info": {
      "name": "python"
    }
  },
  "cells": [
    {
      "cell_type": "code",
      "execution_count": null,
      "metadata": {
        "colab": {
          "base_uri": "https://localhost:8080/"
        },
        "id": "VB6nD1BQ4uwn",
        "outputId": "088a3125-0754-446d-ed02-938bf7d4fa6c"
      },
      "outputs": [
        {
          "output_type": "stream",
          "name": "stdout",
          "text": [
            "Looking in indexes: https://pypi.org/simple, https://us-python.pkg.dev/colab-wheels/public/simple/\n",
            "Requirement already satisfied: pandas in /usr/local/lib/python3.9/dist-packages (1.4.4)\n",
            "Requirement already satisfied: pytz>=2020.1 in /usr/local/lib/python3.9/dist-packages (from pandas) (2022.7.1)\n",
            "Requirement already satisfied: numpy>=1.18.5 in /usr/local/lib/python3.9/dist-packages (from pandas) (1.22.4)\n",
            "Requirement already satisfied: python-dateutil>=2.8.1 in /usr/local/lib/python3.9/dist-packages (from pandas) (2.8.2)\n",
            "Requirement already satisfied: six>=1.5 in /usr/local/lib/python3.9/dist-packages (from python-dateutil>=2.8.1->pandas) (1.15.0)\n",
            "Looking in indexes: https://pypi.org/simple, https://us-python.pkg.dev/colab-wheels/public/simple/\n",
            "Requirement already satisfied: numpy in /usr/local/lib/python3.9/dist-packages (1.22.4)\n"
          ]
        }
      ],
      "source": [
        "#!pip install pandas\n",
        "#!pip install numpy\n"
      ]
    },
    {
      "cell_type": "code",
      "source": [
        "import numpy as np\n",
        "import pandas as pd\n",
        "import itertools\n",
        "import matplotlib\n",
        "import matplotlib.pyplot as plt\n",
        "from pandas.plotting import scatter_matrix\n",
        "from sklearn.model_selection import train_test_split\n",
        "from sklearn.neural_network import MLPClassifier\n",
        "from sklearn.metrics import accuracy_score\n",
        "from sklearn.utils._testing import ignore_warnings\n",
        "from sklearn.exceptions import ConvergenceWarning\n",
        "\n",
        "class NeuralNet:\n",
        "    def __init__(self, dataFile, header=True):\n",
        "        self.raw_input = pd.read_csv(dataFile)\n",
        "\n",
        "\n",
        "    # TODO: Write code for pre-processing the dataset, which would include\n",
        "    # standardization, normalization,\n",
        "    #   categorical to numerical, etc\n",
        "    def preprocess(self):\n",
        "        self.processed_data = self.raw_input\n",
        "        self.processed_data = self.processed_data[[\"1\",\"4\",\"6\",\"9\",\"10\"]].copy()\n",
        "        self.processed_data.loc[self.processed_data['10'] >= 2, '10'] = 0\n",
        "        self.processed_data.tail(-1)\n",
        "        return 0\n",
        "\n",
        "    # TODO: Train and evaluate models for all combinations of parameters\n",
        "    # specified in the init method. We would like to obtain following outputs:\n",
        "    #   1. Training Accuracy and Error (Loss) for every model\n",
        "    #   2. Test Accuracy and Error (Loss) for every model\n",
        "    #   3. History Curve (Plot of Accuracy against training steps) for all\n",
        "    #       the models in a single plot. The plot should be color coded i.e.\n",
        "    #       different color for each model\n",
        "\n",
        "    @ignore_warnings(category=ConvergenceWarning)\n",
        "    def train_evaluate(self):\n",
        "        ncols = len(self.processed_data.columns)\n",
        "        nrows = len(self.processed_data.index)\n",
        "        X = self.processed_data.iloc[:, 0:(ncols - 1)]\n",
        "        y = self.processed_data.iloc[:, (ncols-1)]\n",
        "        X_train, X_test, y_train, y_test = train_test_split(\n",
        "            X, y)\n",
        "\n",
        "        # Below are the hyperparameters that you need to use for model\n",
        "        #   evaluation\n",
        "        activations = ['logistic', 'tanh', 'relu']\n",
        "        learning_rate = [0.01, 0.1]\n",
        "        max_iterations = [100, 200] # also known as epochs\n",
        "        num_hidden_layers = [2, 3]\n",
        "        combos = [activations, learning_rate, max_iterations, num_hidden_layers]\n",
        "        # Create the neural network and be sure to keep track of the performance\n",
        "        #   metrics\n",
        "\n",
        "        combination = [p for p in itertools.product(*combos)]\n",
        "        accuracy_list, epoch_list, train_errors, test_errors, model_results = ([] for i in range(5))\n",
        "\n",
        "        for i in combination:\n",
        "            mlp = MLPClassifier(solver='lbfgs', alpha=i[1],\n",
        "                            activation = i[0],\n",
        "                            hidden_layer_sizes= i[3],\n",
        "                            max_iter = i[2])\n",
        "            \n",
        "            # Plot the model history for each model in a single plot\n",
        "            # model history is a plot of accuracy vs number of epochs\n",
        "            # you may want to create a large sized plot to show multiple lines\n",
        "            # in a same figure.\n",
        "\n",
        "            mlp.fit(X_train,y_train)\n",
        "            train_predictions = mlp.predict(X_train)\n",
        "            test_predictions = mlp.predict(X_test)\n",
        "\n",
        "            #print(\"[ \" + str(i[0]) + \", learning rate = \" + str(i[1]) \n",
        "            #      + \", epochs = \" + str(i[2]) + \", hidden layers = \" + str(i[3]))\n",
        "\n",
        "            train_acc = accuracy_score(y_train,train_predictions)\n",
        "            test_acc= accuracy_score(y_test,test_predictions)\n",
        "            round(train_acc, 3)\n",
        "            round(test_acc, 3)\n",
        "            accuracy_list.append(test_acc)\n",
        "            epoch_list.append(i[2])\n",
        "            \n",
        "            train_er_score = mlp.score(X_train, y_train)\n",
        "            test_er_score = mlp.score(X_test, y_test)\n",
        "            train_errors.append(train_er_score)\n",
        "            test_errors.append(test_er_score)\n",
        "            \n",
        "            round(train_er_score, 3)\n",
        "            round(test_er_score, 3)\n",
        "\n",
        "            if(test_acc > 0.6 and test_er_score < 0.65): \n",
        "              print(i[0])\n",
        "\n",
        "            model_results.append([i[0],i[1],i[2],i[3],train_acc,test_acc,train_er_score,test_er_score])\n",
        "\n",
        "        #print(accuracy_list)\n",
        "        #print(epoch_list)\n",
        "\n",
        "        plt.scatter(accuracy_list,epoch_list)\n",
        "        plt.xlabel('Accuracy')\n",
        "        plt.ylabel('Epochs')\n",
        "        plt.title('Accuracy vs Epoch')\n",
        "        yticks = [90,100,200,210]\n",
        "        plt.yticks(yticks)\n",
        "        model_data = pd.DataFrame(model_results)\n",
        "        model_data.columns = ['Activation Function','Learning Rate',\n",
        "                              'Epochs','Hidden Layers','Train Accuracy','Test Accuracy'\n",
        "                              ,'Train Error','Test Error']\n",
        "        print(model_data)\n",
        "        return 0\n",
        "\n",
        "\n",
        "\n",
        "\n",
        "if __name__ == \"__main__\":\n",
        "    neural_network = NeuralNet(\"https://raw.githubusercontent.com/Hlopez490/ML01/main/A02_Data.csv\") # put in path to your file\n",
        "    neural_network.preprocess()\n",
        "    neural_network.train_evaluate()"
      ],
      "metadata": {
        "id": "0C-VgY3T5-2W",
        "colab": {
          "base_uri": "https://localhost:8080/",
          "height": 1000
        },
        "outputId": "a66f2448-421b-46a3-c990-0c1e693555e4"
      },
      "execution_count": 50,
      "outputs": [
        {
          "output_type": "stream",
          "name": "stdout",
          "text": [
            "relu\n",
            "relu\n",
            "relu\n",
            "   Activation Function  Learning Rate  Epochs  Hidden Layers  Train Accuracy  \\\n",
            "0             logistic           0.01     100              2        0.699275   \n",
            "1             logistic           0.01     100              3        0.687500   \n",
            "2             logistic           0.01     200              2        0.567935   \n",
            "3             logistic           0.01     200              3        0.717391   \n",
            "4             logistic           0.10     100              2        0.715580   \n",
            "5             logistic           0.10     100              3        0.689312   \n",
            "6             logistic           0.10     200              2        0.689312   \n",
            "7             logistic           0.10     200              3        0.717391   \n",
            "8                 tanh           0.01     100              2        0.567935   \n",
            "9                 tanh           0.01     100              3        0.692029   \n",
            "10                tanh           0.01     200              2        0.567935   \n",
            "11                tanh           0.01     200              3        0.567935   \n",
            "12                tanh           0.10     100              2        0.567935   \n",
            "13                tanh           0.10     100              3        0.567935   \n",
            "14                tanh           0.10     200              2        0.567935   \n",
            "15                tanh           0.10     200              3        0.693841   \n",
            "16                relu           0.01     100              2        0.665761   \n",
            "17                relu           0.01     100              3        0.696558   \n",
            "18                relu           0.01     200              2        0.673007   \n",
            "19                relu           0.01     200              3        0.567935   \n",
            "20                relu           0.10     100              2        0.567935   \n",
            "21                relu           0.10     100              3        0.694746   \n",
            "22                relu           0.10     200              2        0.567935   \n",
            "23                relu           0.10     200              3        0.659420   \n",
            "\n",
            "    Test Accuracy  Train Error  Test Error  \n",
            "0        0.672087     0.699275    0.672087  \n",
            "1        0.672087     0.687500    0.672087  \n",
            "2        0.588076     0.567935    0.588076  \n",
            "3        0.685637     0.717391    0.685637  \n",
            "4        0.680217     0.715580    0.680217  \n",
            "5        0.663957     0.689312    0.663957  \n",
            "6        0.663957     0.689312    0.663957  \n",
            "7        0.688347     0.717391    0.688347  \n",
            "8        0.588076     0.567935    0.588076  \n",
            "9        0.661247     0.692029    0.661247  \n",
            "10       0.588076     0.567935    0.588076  \n",
            "11       0.588076     0.567935    0.588076  \n",
            "12       0.588076     0.567935    0.588076  \n",
            "13       0.588076     0.567935    0.588076  \n",
            "14       0.588076     0.567935    0.588076  \n",
            "15       0.672087     0.693841    0.672087  \n",
            "16       0.639566     0.665761    0.639566  \n",
            "17       0.661247     0.696558    0.661247  \n",
            "18       0.642276     0.673007    0.642276  \n",
            "19       0.588076     0.567935    0.588076  \n",
            "20       0.588076     0.567935    0.588076  \n",
            "21       0.655827     0.694746    0.655827  \n",
            "22       0.588076     0.567935    0.588076  \n",
            "23       0.631436     0.659420    0.631436  \n"
          ]
        },
        {
          "output_type": "display_data",
          "data": {
            "text/plain": [
              "<Figure size 432x288 with 1 Axes>"
            ],
            "image/png": "[encoded data removed]"
          },
          "metadata": {
            "needs_background": "light"
          }
        }
      ]
    },
    {
      "cell_type": "markdown",
      "source": [],
      "metadata": {
        "id": "0F8HEG11cY7P"
      }
    }
  ]
}